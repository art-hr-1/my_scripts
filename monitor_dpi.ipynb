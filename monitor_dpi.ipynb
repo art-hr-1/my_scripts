{
 "cells": [
  {
   "cell_type": "code",
   "execution_count": null,
   "metadata": {},
   "outputs": [],
   "source": [
    "from math import sqrt\n",
    "\n",
    "monitors = {\n",
    "    \"acer\": [1280, 720, 15.6],\n",
    "    \"oldPhilips19\": [1280, 1024, 19],\n",
    "    \"oldPhilips17\": [1280, 1024, 17],\n",
    "    \"hp\": [1920, 1080, 21],\n",
    "    \"lg\": [2560, 1080, 29],\n",
    "    \"gygabyte\": [1920, 1080, 15.6],\n",
    "    \"uperfect\": [2540, 1600, 18],\n",
    "}\n",
    "\n",
    "monitors_common = {\n",
    "    \"hd_24\": [1920, 1080, 24],\n",
    "    \"qhd_27\": [2540, 1440, 27],\n",
    "    \"qhd_32\": [2540, 1440, 32],\n",
    "}\n",
    "\n",
    "\n",
    "def ppi(w, h, d):\n",
    "    res = sqrt(w * w + h * h) / d\n",
    "    return round(res)\n",
    "\n",
    "\n",
    "monitor_items = [*monitors.items(), *monitors_common.items()]\n",
    "\n",
    "[(monitor, ppi(w, h, d)) for (monitor, [w, h, d]) in monitor_items]"
   ]
  }
 ],
 "metadata": {
  "kernelspec": {
   "display_name": "Python 3",
   "language": "python",
   "name": "python3"
  },
  "language_info": {
   "codemirror_mode": {
    "name": "ipython",
    "version": 3
   },
   "file_extension": ".py",
   "mimetype": "text/x-python",
   "name": "python",
   "nbconvert_exporter": "python",
   "pygments_lexer": "ipython3",
   "version": "3.12.4"
  }
 },
 "nbformat": 4,
 "nbformat_minor": 2
}
